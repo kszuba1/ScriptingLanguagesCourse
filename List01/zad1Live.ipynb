{
 "cells": [
  {
   "cell_type": "code",
   "execution_count": 6,
   "id": "1a061d5b",
   "metadata": {},
   "outputs": [
    {
     "name": "stdout",
     "output_type": "stream",
     "text": [
      "Hello user!\n",
      "Enter new file: game.csv\n",
      "Enter new file: view.jpg\n",
      "Enter new file: somecode.java\n",
      "Enter new file: someproject.java\n",
      "Enter new file: nicephoto.jpg\n",
      "Enter new file: sometext.txt\n",
      "Enter new file: anothergame.csv\n",
      "Domain  Amount\n",
      "csv          2\n",
      "jpg          2\n",
      "java         2\n",
      "txt          1\n",
      "{'csv': ['anothergame', 'game'], 'jpg': ['nicephoto', 'view'], 'java': ['somecode', 'someproject'], 'txt': ['sometext']}\n"
     ]
    }
   ],
   "source": [
    "#zadanie 1\n",
    "name = 'krzysiu'\n",
    "print('Hello %s!' % name)\n",
    "files = []\n",
    "for i in range(0,7):\n",
    "    file = input('Enter new file: ')\n",
    "    files.append(file)\n",
    "files.sort()\n",
    "domains = []\n",
    "domainsDict = {}\n",
    "for i in range(0,7):\n",
    "    for (index,value) in enumerate(files[i]):\n",
    "        if value == '.':\n",
    "            domainsDict.setdefault(files[i][(index+1):],[]).append(files[i][:index])\n",
    "            domains.append(files[i][(index+1):])\n",
    "domainsAmount = []\n",
    "temp = domainsDict.items()\n",
    "print('Domain  Amount')\n",
    "for domain in domainsDict:\n",
    "    print('%-7s%7s'   % (domain,str(len(domainsDict.get(domain)))))      \n",
    "    \n",
    "\n",
    "print(domainsDict)"
   ]
  },
  {
   "cell_type": "code",
   "execution_count": 114,
   "id": "c8aead26",
   "metadata": {},
   "outputs": [
    {
     "name": "stdout",
     "output_type": "stream",
     "text": [
      "word \t\tlength\n",
      "bhfyp                5\n",
      "frasi                5\n",
      "frasier              7\n",
      "frasista             8\n",
      "frasistas            9\n",
      "frasitumblr         11\n",
      "funny                5\n",
      "funnytexts          10\n",
      "instapage            9\n",
      "love                 4\n",
      "memes                5\n",
      "quotes               6\n",
      "texgram              7\n",
      "texting              7\n",
      "textmessage         11\n",
      "textpost             8\n",
      "texture              7\n",
      "tumblr               6\n",
      "tweedride            9\n",
      "tweegram             8\n",
      "tweembler            9\n",
      "tweemblers          10\n",
      "tweet                5\n",
      "tweeter              7\n",
      "tweeters             8\n",
      "tweetext             8\n",
      "tweetexts            9\n",
      "tweets               6\n",
      "text1 uniqueChars\n",
      "{'v', 'd', 'e', 't', 'p', 'o', ' ', 'x', 'a', 'n', 'r', 'w', 'q', 'h', 'f', 's', 'g', 'b', 'y', 'm', 'l', 'u', 'i'}\n",
      "text2 uniqueChars\n",
      "{']', 'k', 'v', 'd', ')', 'e', 't', 'p', 'o', '4', ' ', '0', 'x', 'a', '.', 'n', '#', '7', 'r', 'w', '2', '1', 'h', '\\u202f', '(', 'f', 's', 'g', 'b', 'y', 'm', '3', '-', \"'\", 'j', 'l', ';', 'u', 'c', 'i'}\n",
      "A hashtag is a metadata tag that is prefaced by the pound sign or hash symbol, # (not to be confused with the pound currency sign). HASHTAGS ARE USED ON MICROBLOGGING AND PHOTO-SHARING SERVICES SUCH AS TWITTER, INSTAGRAM AND WECHAT AS A FORM OF USER-GENERATED TAGGING THAT ENABLES CROSS-REFERENCING OF CONTENT; THAT IS, SHARING A TOPIC OR THEME. for example, a search within instagram for the hashtag #bluesky returns all posts that have been tagged with that hashtag. The Use Of Hashtags Was First Proposed By American Blogger, Product Consultant And Speaker Chris Messina In A 2007 Tweet. Messina made nO attempt tO patent the use because he felt \"they were bOrn Of the internet, and Owned by nO One\".\n"
     ]
    }
   ],
   "source": [
    "#zadanie 2\n",
    "#1\n",
    "text1 = \"#love #tumblr #memes #quotes #funnytexts #texting #funny #tweets #textpost #texture #frasi #tweegram #tweet #tweetext #tweetexts #texgram #tweedride #instapage #tweembler #frasier #frasitumblr #tweeter #tweemblers #tweeters #frasista #textmessage #frasistas #bhfyp\"\n",
    "text2 = \"A hashtag is a metadata tag that is prefaced by the pound sign or hash symbol, # (not to be confused with the pound currency sign). Hashtags are used on microblogging and photo-sharing services such as Twitter, Instagram and WeChat as a form of user-generated tagging that enables cross-referencing of content; that is, sharing a topic or theme. For example, a search within Instagram for the hashtag #bluesky returns all posts that have been tagged with that hashtag. After the initial hash symbol, a hashtag may include letters, digits, and underscores.] The use of hashtags was first proposed by American blogger, product consultant and speaker Chris Messina in a 2007 tweet. Messina made no attempt to patent the use because he felt they were born of the internet, and owned by no one. In 2013, Twitter purportedly told the Wall Street Journal that these things are for nerds and their use wouldn't be adopted widely. By the end of the decade, though, hashtags were entrenched in the culture of the platform, and they soon emerged across Instagram, Facebook, and YouTube. In June 2014, hashtag was added to the Oxford English Dictionary, as a word or phrase with the symbol # in front of it, used on social media websites and apps so that you can search for all messages with the same subject.\"\n",
    "text1 = text1.replace(\" \",\"\")\n",
    "text1 = text1.replace(\"#\",\" \")\n",
    "text1List = text1.split(\" \")\n",
    "text1List.pop(0)\n",
    "text1List.sort()\n",
    "tDict = {}\n",
    "print(\"word \\t\\tlength\")\n",
    "for str in text1List:\n",
    "    tDict.setdefault(str,len(str))\n",
    "    print('%-15s%7d' % (str,len(str)))\n",
    "#2\n",
    "text2 = text2.replace(',',';')\n",
    "text2 = text2.lower()\n",
    "inAmount = text2.count(' in ')\n",
    "set1 = set(text1)\n",
    "set2 = set(text2)\n",
    "print('text1 uniqueChars')\n",
    "print(set1)\n",
    "print('text2 uniqueChars')\n",
    "print(set2)\n",
    "sentence1 = \"A hashtag is a metadata tag that is prefaced by the pound sign or hash symbol, # (not to be confused with the pound currency sign).\"\n",
    "sentence1 = sentence1.lower()\n",
    "sentence1 = sentence1.capitalize()\n",
    "sentence2 = \"Hashtags are used on microblogging and photo-sharing services such as Twitter, Instagram and WeChat as a form of user-generated tagging that enables cross-referencing of content; that is, sharing a topic or theme.\"\n",
    "sentence2 = sentence2.upper()\n",
    "sentence3 = \"For example, a search within Instagram for the hashtag #bluesky returns all posts that have been tagged with that hashtag.\"\n",
    "sentence3 = sentence3.lower()\n",
    "sentence4 = \"The use of hashtags was first proposed by American blogger, product consultant and speaker Chris Messina in a 2007 tweet.\"\n",
    "sentence4 = sentence4.title()\n",
    "sentence5 = \"Messina made no attempt to patent the use because he felt \\\"they were born of the internet, and owned by no one\\\".\"\n",
    "for i in range(0,len(sentence5)):\n",
    "    if sentence5[i]=='a' or sentence5[i]=='A' or sentence5[i]=='e' or sentence5[i]=='E' or sentence5[i]=='i' or sentence5[i]=='I' or sentence5[i]=='u' or sentence5[i]=='U' or sentence5[i]=='o' or sentence5[i]=='O' or sentence5[i]=='y' or sentence5[i]=='Y':\n",
    "        if sentence5[i].islower():\n",
    "            sentence5[i].upper()\n",
    "        else:\n",
    "            sentence5[i].lower()\n",
    "foo = \" \".join([sentence1,sentence2,sentence3,sentence4,sentence5])            \n",
    "print(foo)    \n"
   ]
  },
  {
   "cell_type": "code",
   "execution_count": null,
   "id": "896ed368",
   "metadata": {},
   "outputs": [],
   "source": []
  }
 ],
 "metadata": {
  "kernelspec": {
   "display_name": "Python 3 (ipykernel)",
   "language": "python",
   "name": "python3"
  },
  "language_info": {
   "codemirror_mode": {
    "name": "ipython",
    "version": 3
   },
   "file_extension": ".py",
   "mimetype": "text/x-python",
   "name": "python",
   "nbconvert_exporter": "python",
   "pygments_lexer": "ipython3",
   "version": "3.9.7"
  }
 },
 "nbformat": 4,
 "nbformat_minor": 5
}
