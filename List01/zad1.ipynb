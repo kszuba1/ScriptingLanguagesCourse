{
 "cells": [
  {
   "cell_type": "code",
   "execution_count": 1,
   "id": "29b17401",
   "metadata": {},
   "outputs": [
    {
     "name": "stdout",
     "output_type": "stream",
     "text": [
      "Product  Amount  Vat \tPrice\n",
      "Bread         2   23       15\n",
      "Cheese        4   23       21\n",
      "Knife         1   23      199\n",
      "Yoghurt      11   23       33\n",
      "Car          10    9     5555\n",
      "Bigos        77   77       77\n"
     ]
    }
   ],
   "source": [
    "#zadanie 1\n",
    "produkty = [('Bread',2,23,15),('Cheese',4,23,21),\n",
    "        ('Knife',1,23,199),('Yoghurt',11,23,33),('Car',10,9,5555),('Bigos',77,77,77)]\n",
    "print('Product  Amount  Vat \\tPrice')\n",
    "for P,A,V,Pr in produkty:\n",
    "   print('%-10s%5d%5d%9d' % (P,A,V,Pr))"
   ]
  },
  {
   "cell_type": "code",
   "execution_count": 2,
   "id": "7c3f7690",
   "metadata": {},
   "outputs": [
    {
     "name": "stdout",
     "output_type": "stream",
     "text": [
      "Your lights have been turned on\n"
     ]
    }
   ],
   "source": [
    "#zadanie 2\n",
    "isNight = True\n",
    "isRaining = False\n",
    "isFog = False\n",
    "\n",
    "# isNight = False\n",
    "# isRaining = False\n",
    "# isFog = False\n",
    "\n",
    "# isNight = False\n",
    "# isRaining = True\n",
    "# isFog = False\n",
    "\n",
    "\n",
    "\n",
    "if isNight or isRaining or isFog:\n",
    "    print('Your lights have been turned on')\n",
    "else: \n",
    "    print('No need to turn your lights on')\n"
   ]
  },
  {
   "cell_type": "code",
   "execution_count": 3,
   "id": "e86f6079",
   "metadata": {},
   "outputs": [
    {
     "name": "stdout",
     "output_type": "stream",
     "text": [
      "domena \tilosc\n",
      "pwr         3\n",
      "o2          3\n",
      "wp          1\n"
     ]
    }
   ],
   "source": [
    "#zadanie 3\n",
    "emails01 = ['pawel@pwr','gawel@o2','krzysio@wp','rysio@pwr','wojtek@o2','misio@pwr','xd@o2']\n",
    "emails = []\n",
    "for i in range(0,len(emails01)):\n",
    "    #email = input('Enter your email: ')\n",
    "    email = emails01[i]\n",
    "    emails.append(email)\n",
    "domains = []\n",
    "for i in range(0,len(emails01)):\n",
    "    for index,value in enumerate(emails[i]):\n",
    "        if value == '@':\n",
    "            domain = (emails[i])[(index+1):]\n",
    "            domains.append(domain)\n",
    "            break\n",
    "print('domena \\tilosc')\n",
    "domainsSet = set(domains)\n",
    "for domain in domainsSet:\n",
    "    amount = domains.count(domain)\n",
    "    print('%-10s%3s' % (domain,amount))"
   ]
  },
  {
   "cell_type": "code",
   "execution_count": 4,
   "id": "f595e5ce",
   "metadata": {},
   "outputs": [
    {
     "name": "stdout",
     "output_type": "stream",
     "text": [
      "First 3 elements sorted: [3, 15, 19, 43, 98, 16, 9, 23, 4]\n",
      "List sorted ascending: [3, 4, 9, 15, 16, 19, 23, 43, 98]\n",
      "List sorted descending: [98, 43, 23, 19, 16, 15, 9, 4, 3]\n",
      "Non-Primes and their factors: {15: [3, 1, 15, 5], 98: [2, 1, 98, 7, 14, 49], 16: [2, 1, 16, 4, 8], 9: [3, 1, 9], 4: [2, 1, 4]}\n",
      "Primes: [19, 3, 43, 23]\n"
     ]
    }
   ],
   "source": [
    "#zadanie 4\n",
    "list1 = [ 19, 3, 15, 43, 98, 16, 9, 23, 4]\n",
    "factors = {}\n",
    "primes = []\n",
    "for number in list1:\n",
    "    if number > 1:\n",
    "        for i in range(2, number):\n",
    "            if (number % i) == 0:\n",
    "                if number in factors:\n",
    "                    factors.get(number).append(i)\n",
    "                else:\n",
    "                    factors[number] = [i]\n",
    "                    factors.get(number).append(1)\n",
    "                    factors.get(number).append(number)\n",
    "                    \n",
    "for number in list1:\n",
    "    if not number in factors:\n",
    "        primes.append(number)\n",
    "\n",
    "tempList = list1[0:3]\n",
    "tempList.sort()\n",
    "list1[0:3] = tempList\n",
    "print('First 3 elements sorted: ' + str(list1))\n",
    "list1.sort()\n",
    "print('List sorted ascending: ' + str(list1))\n",
    "list1.reverse()\n",
    "print('List sorted descending: ' + str(list1))\n",
    "print(\"Non-Primes and their factors: \" + str(factors))        \n",
    "print(\"Primes: \" + str(primes))        \n",
    "        "
   ]
  },
  {
   "cell_type": "code",
   "execution_count": 5,
   "id": "e75ebca1",
   "metadata": {},
   "outputs": [
    {
     "name": "stdout",
     "output_type": "stream",
     "text": [
      "Packages on truck: [34, 23, 23, 16, 3]\n",
      "Total capacity loaded: 99\n"
     ]
    }
   ],
   "source": [
    "#zadanie 5\n",
    "list2 = [12, 5, 8, 8, 23, 15, 7, 8, 9, 12, 34, 6, 9, 16, 8, 23, 12, 7, 5, 3]\n",
    "list2.sort()\n",
    "list2.reverse()\n",
    "listOnTruck = []\n",
    "suma = 0\n",
    "for number in list2:\n",
    "    if number + suma <= 100:\n",
    "        suma+=number\n",
    "        listOnTruck.append(number)\n",
    "        \n",
    "\n",
    "print(\"Packages on truck: \" + str(listOnTruck) + '\\nTotal capacity loaded: ' + str(suma))"
   ]
  },
  {
   "cell_type": "code",
   "execution_count": 17,
   "id": "4cb6dee0",
   "metadata": {},
   "outputs": [
    {
     "name": "stdout",
     "output_type": "stream",
     "text": [
      "Hello!\n",
      "Please, Enter your firstname: mariola\n",
      "Enter your surname: koWALSKA\n",
      "Thank you, now your email will be created\n",
      "Hello!\n",
      "Please, Enter your firstname: GRZEGORZ\n",
      "Enter your surname: brzęczyszczykiewicz\n",
      "Thank you, now your email will be created\n",
      "Hello!\n",
      "Please, Enter your firstname: JAN\n",
      "Enter your surname: NOWAK\n",
      "Thank you, now your email will be created\n",
      "Hello!\n",
      "Please, Enter your firstname: roMan\n",
      "Enter your surname: PolAnSKI\n",
      "Thank you, now your email will be created\n",
      "Firstname\tSurname \t     Email\n",
      "Mariola         Kowalska             mariola.kowalska@pwr.edu.pl\n",
      "Grzegorz        Brzęczyszczykiewicz  grzegorz.brzęczyszczykiewicz@pwr.edu.pl\n",
      "Jan             Nowak                jan.nowak@pwr.edu.pl\n",
      "Roman           Polanski             roman.polanski@pwr.edu.pl\n"
     ]
    }
   ],
   "source": [
    "#zadanie 6\n",
    "firstnames = []\n",
    "surnames = []\n",
    "names = []\n",
    "emails = []\n",
    "domain = 'pwr.edu.pl'\n",
    "for i in range(0,4):\n",
    "    firstname = input('Hello!\\nPlease, Enter your firstname: ')\n",
    "    firstnames.append(firstname.title())\n",
    "    surname = input('Enter your surname: ')\n",
    "    print('Thank you, now your email will be created')\n",
    "    surnames.append(surname.title())\n",
    "    names.append((firstname.title(),surname.title()))\n",
    "    email = '.'.join([firstname.lower(),surname.lower()]) + '@'+domain\n",
    "    emails.append(email)\n",
    " \n",
    "print(\"Firstname\\tSurname \\t     Email\")\n",
    "for i in range(0,len(names)):\n",
    "    print('%-16s%-21s%s' % (firstnames[i],surnames[i],emails[i]))\n",
    "    \n",
    "   \n",
    "    "
   ]
  }
 ],
 "metadata": {
  "kernelspec": {
   "display_name": "Python 3 (ipykernel)",
   "language": "python",
   "name": "python3"
  },
  "language_info": {
   "codemirror_mode": {
    "name": "ipython",
    "version": 3
   },
   "file_extension": ".py",
   "mimetype": "text/x-python",
   "name": "python",
   "nbconvert_exporter": "python",
   "pygments_lexer": "ipython3",
   "version": "3.9.7"
  }
 },
 "nbformat": 4,
 "nbformat_minor": 5
}
